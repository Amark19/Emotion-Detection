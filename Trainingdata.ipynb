{
 "cells": [
  {
   "cell_type": "code",
   "execution_count": 1,
   "id": "herbal-federation",
   "metadata": {},
   "outputs": [],
   "source": [
    "import pickle\n",
    "import numpy as np\n",
    "X=pickle.load(open(\"x_LOAD_DATA.pickle\",\"rb\"))\n",
    "y=pickle.load(open(\"y_LOAD_DATA.pickle\",\"rb\"))\n",
    "X=X/255.0\n",
    "y=np.array(y)\n",
    "IMG_SIZE=60\n",
    "import tensorflow as tf\n",
    "from tensorflow.keras import datasets, layers, models\n",
    "\n",
    "cnn = models.Sequential([\n",
    "    layers.Conv2D(filters=32, kernel_size=(3, 3), activation='relu', input_shape=(IMG_SIZE,IMG_SIZE, 1)),\n",
    "    layers.MaxPooling2D((2, 2)),\n",
    "    \n",
    "    layers.Conv2D(filters=64, kernel_size=(3, 3), activation='relu'),\n",
    "    layers.MaxPooling2D((2, 2)),\n",
    "    \n",
    "    layers.Flatten(),\n",
    "    layers.Dense(64, activation='relu'),\n",
    "    layers.Dense(4, activation='softmax')\n",
    "])"
   ]
  },
  {
   "cell_type": "code",
   "execution_count": 2,
   "id": "formal-hormone",
   "metadata": {},
   "outputs": [],
   "source": [
    "cnn.compile(optimizer='adam',\n",
    "              loss='sparse_categorical_crossentropy',\n",
    "              metrics=['accuracy'])"
   ]
  },
  {
   "cell_type": "code",
   "execution_count": 3,
   "id": "covered-soccer",
   "metadata": {},
   "outputs": [
    {
     "name": "stdout",
     "output_type": "stream",
     "text": [
      "Epoch 1/10\n",
      "38/38 [==============================] - 8s 116ms/step - loss: 0.9547 - accuracy: 0.6342\n",
      "Epoch 2/10\n",
      "38/38 [==============================] - 4s 115ms/step - loss: 0.2507 - accuracy: 0.9300\n",
      "Epoch 3/10\n",
      "38/38 [==============================] - 4s 115ms/step - loss: 0.1106 - accuracy: 0.9642\n",
      "Epoch 4/10\n",
      "38/38 [==============================] - 5s 118ms/step - loss: 0.0404 - accuracy: 0.9917\n",
      "Epoch 5/10\n",
      "38/38 [==============================] - 5s 135ms/step - loss: 0.0264 - accuracy: 0.9900\n",
      "Epoch 6/10\n",
      "38/38 [==============================] - 5s 144ms/step - loss: 0.0183 - accuracy: 0.9958\n",
      "Epoch 7/10\n",
      "38/38 [==============================] - 5s 138ms/step - loss: 0.0181 - accuracy: 0.9942\n",
      "Epoch 8/10\n",
      "38/38 [==============================] - 5s 138ms/step - loss: 0.0071 - accuracy: 0.9992\n",
      "Epoch 9/10\n",
      "38/38 [==============================] - 5s 128ms/step - loss: 0.0067 - accuracy: 0.9992\n",
      "Epoch 10/10\n",
      "38/38 [==============================] - 4s 116ms/step - loss: 0.0029 - accuracy: 1.0000\n"
     ]
    },
    {
     "data": {
      "text/plain": [
       "<tensorflow.python.keras.callbacks.History at 0x1fc5bf53940>"
      ]
     },
     "execution_count": 3,
     "metadata": {},
     "output_type": "execute_result"
    }
   ],
   "source": [
    "cnn.fit(X, y, epochs=10)"
   ]
  },
  {
   "cell_type": "code",
   "execution_count": 4,
   "id": "spatial-lexington",
   "metadata": {},
   "outputs": [],
   "source": [
    "# #testing an random image\n",
    "# image_path=input()"
   ]
  },
  {
   "cell_type": "code",
   "execution_count": 5,
   "id": "narrow-documentation",
   "metadata": {},
   "outputs": [],
   "source": [
    "import cv2\n",
    "# img1_array=cv2.imread(image_path)\n",
    "# new1_array=cv2.resize(img1_array,(IMG_SIZE,IMG_SIZE))\n",
    "# new1_array=new1_array.reshape(-1,IMG_SIZE,IMG_SIZE,1)\n",
    "# np.argmax(cnn.predict(new1_array))"
   ]
  },
  {
   "cell_type": "code",
   "execution_count": 6,
   "id": "several-musician",
   "metadata": {},
   "outputs": [
    {
     "name": "stdout",
     "output_type": "stream",
     "text": [
      "INFO:tensorflow:Assets written to: emotiondetection.model\\assets\n"
     ]
    }
   ],
   "source": [
    "cnn.save('emotiondetection.model')"
   ]
  },
  {
   "cell_type": "code",
   "execution_count": null,
   "id": "negative-crack",
   "metadata": {},
   "outputs": [],
   "source": [
    " "
   ]
  }
 ],
 "metadata": {
  "kernelspec": {
   "display_name": "Python 3",
   "language": "python",
   "name": "python3"
  },
  "language_info": {
   "codemirror_mode": {
    "name": "ipython",
    "version": 3
   },
   "file_extension": ".py",
   "mimetype": "text/x-python",
   "name": "python",
   "nbconvert_exporter": "python",
   "pygments_lexer": "ipython3",
   "version": "3.8.3"
  }
 },
 "nbformat": 4,
 "nbformat_minor": 5
}
